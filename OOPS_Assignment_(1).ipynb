{
  "nbformat": 4,
  "nbformat_minor": 0,
  "metadata": {
    "colab": {
      "provenance": []
    },
    "kernelspec": {
      "name": "python3",
      "display_name": "Python 3"
    },
    "language_info": {
      "name": "python"
    }
  },
  "cells": [
    {
      "cell_type": "markdown",
      "source": [
        "Ques-1 What are the five key concepts of Object-Oriented Programming (OOP)?"
      ],
      "metadata": {
        "id": "eZufkQL0i_Ll"
      }
    },
    {
      "cell_type": "markdown",
      "source": [
        "The five key concepts of Object-Oriented Programming (OOP) are:\n",
        "\n",
        "1. Classes: A class is a blueprint or template for creating objects. It defines the attributes (properties) and methods (behaviors) that the objects created from the class will have.\n",
        "\n",
        "2. Objects: An object is an instance of a class. It represents a specific entity with defined attributes and behaviors based on the class.\n",
        "\n",
        "3. Encapsulation: Encapsulation is the concept of bundling the data (attributes) and methods (functions) that operate on the data into a single unit (class). It also involves restricting direct access to some of the object's components to enforce data integrity, typically using access modifiers like private, public, or protected.\n",
        "\n",
        "4. Inheritance: Inheritance allows a new class (child class or subclass) to inherit properties and behaviors (attributes and methods) from an existing class (parent class or superclass). This promotes code reuse and establishes a relationship between classes.\n",
        "\n",
        "5. Polymorphism: Polymorphism allows objects of different classes to be treated as objects of a common superclass. It enables one interface to be used for a general class of actions, typically through method overriding (in a subclass) or method overloading (within the same class)."
      ],
      "metadata": {
        "id": "ypnHdT6EjPNM"
      }
    },
    {
      "cell_type": "markdown",
      "source": [
        "Ques-2 Write a Python class for a Car with attributes for make, model, and year. Include a method to display the car's information."
      ],
      "metadata": {
        "id": "BbSldgAGjeFS"
      }
    },
    {
      "cell_type": "code",
      "execution_count": null,
      "metadata": {
        "colab": {
          "base_uri": "https://localhost:8080/"
        },
        "id": "iqqXCaJ2i2vA",
        "outputId": "3dae2f00-4be6-4b19-ed89-ded50a0f32d5"
      },
      "outputs": [
        {
          "output_type": "stream",
          "name": "stdout",
          "text": [
            "Car Information: 2020 Toyota Corolla\n"
          ]
        }
      ],
      "source": [
        "class Car:\n",
        "    def __init__(self, make, model, year):\n",
        "        self.make = make\n",
        "        self.model = model\n",
        "        self.year = year\n",
        "\n",
        "    def display_info(self):\n",
        "        print(f\"Car Information: {self.year} {self.make} {self.model}\")\n",
        "\n",
        "# Example\n",
        "my_car = Car(\"Toyota\", \"Corolla\", 2020)\n",
        "my_car.display_info()\n"
      ]
    },
    {
      "cell_type": "markdown",
      "source": [
        "Ques-3  Explain the difference between instance methods and class methods. Provide an example of each."
      ],
      "metadata": {
        "id": "lMy1rNSrjufK"
      }
    },
    {
      "cell_type": "markdown",
      "source": [
        "1. Instance Methods:\n",
        "These methods operate on an instance of the class and have access to the instance attributes (variables unique to each object).\n",
        "They are defined with self as the first parameter, which refers to the instance calling the method.\n",
        "Instance methods can modify the object’s state or retrieve its properties."
      ],
      "metadata": {
        "id": "fAKnfo4Rj5IN"
      }
    },
    {
      "cell_type": "code",
      "source": [
        "#example\n",
        "class Car:\n",
        "    def __init__(self, make, model, year):\n",
        "        self.make = make\n",
        "        self.model = model\n",
        "        self.year = year\n",
        "\n",
        "    # Instance method\n",
        "    def display_info(self):\n",
        "        print(f\"Car Information: {self.year} {self.make} {self.model}\")\n",
        "\n",
        "\n",
        "my_car = Car(\"Toyota\", \"Corolla\", 2020)\n",
        "my_car.display_info()\n"
      ],
      "metadata": {
        "colab": {
          "base_uri": "https://localhost:8080/"
        },
        "id": "XhjuQSq0joyq",
        "outputId": "24c21c5b-7cc2-4183-f8e3-cd6475dd6eba"
      },
      "execution_count": null,
      "outputs": [
        {
          "output_type": "stream",
          "name": "stdout",
          "text": [
            "Car Information: 2020 Toyota Corolla\n"
          ]
        }
      ]
    },
    {
      "cell_type": "markdown",
      "source": [
        "2. Class Methods:\n",
        "Class methods are bound to the class and not the object instance. They can modify class-level data (attributes shared across all instances of the class).\n",
        "Class methods are defined with @classmethod decorator and cls as the first parameter, which refers to the class itself rather than the instance.\n",
        "They are often used for factory methods, where you want to create an instance of the class using some alternative logic."
      ],
      "metadata": {
        "id": "6SwtkeVylei-"
      }
    },
    {
      "cell_type": "code",
      "source": [
        "#example\n",
        "class Car:\n",
        "    make_count = 0  # Class attribute\n",
        "\n",
        "    def __init__(self, make, model, year):\n",
        "        self.make = make\n",
        "        self.model = model\n",
        "        self.year = year\n",
        "        Car.make_count += 1  # Modify class attribute each time a Car is created\n",
        "\n",
        "    # Instance method\n",
        "    def display_info(self):\n",
        "        print(f\"Car Information: {self.year} {self.make} {self.model}\")\n",
        "\n",
        "    # Class method\n",
        "    @classmethod\n",
        "    def get_make_count(cls):\n",
        "        return f\"Total number of cars made: {cls.make_count}\"\n",
        "\n",
        "\n",
        "car1 = Car(\"Toyota\", \"Corolla\", 2020)\n",
        "car2 = Car(\"Honda\", \"Civic\", 2021)\n",
        "\n",
        "# Calling an instance method\n",
        "car1.display_info()\n",
        "\n",
        "# Calling a class method\n",
        "print(Car.get_make_count())\n"
      ],
      "metadata": {
        "colab": {
          "base_uri": "https://localhost:8080/"
        },
        "id": "xarKF_6IldIG",
        "outputId": "10fe127e-72d3-4704-f42c-81d096996edb"
      },
      "execution_count": null,
      "outputs": [
        {
          "output_type": "stream",
          "name": "stdout",
          "text": [
            "Car Information: 2020 Toyota Corolla\n",
            "Total number of cars made: 2\n"
          ]
        }
      ]
    },
    {
      "cell_type": "markdown",
      "source": [
        "Key Differences:\n",
        "\n",
        "1. Instance Methods:\n",
        "\n",
        "-> Operate on an object (instance) of the class.\n",
        "\n",
        "-> Can access and modify instance attributes via self.\n",
        "\n",
        "2. Class Methods:\n",
        "\n",
        "-> Operate on the class itself.\n",
        "\n",
        "-> Can modify class-level attributes shared by all instances via cls."
      ],
      "metadata": {
        "id": "--jcK4YEltrP"
      }
    },
    {
      "cell_type": "markdown",
      "source": [
        "Ques-4 How does Python implement method overloading? Give an example."
      ],
      "metadata": {
        "id": "GQSyW3iWl9sR"
      }
    },
    {
      "cell_type": "markdown",
      "source": [
        "Method overloading (having multiple methods with the same name but different parameters) is not natively supported like in some other programming languages (e.g., Java or C++). However, Python allows a similar behavior using techniques like:\n",
        "\n",
        "Default arguments\n",
        "\n",
        "Variable-length arguments (*args and **kwargs)\n",
        "\n",
        "By using these mechanisms, you can achieve functionality similar to method overloading."
      ],
      "metadata": {
        "id": "zeNFwNydmD_p"
      }
    },
    {
      "cell_type": "code",
      "source": [
        "#Example: Method Overloading Using Default and Variable-Length Arguments\n",
        "class Calculator:\n",
        "\n",
        "    def add(self, a=0, b=0, c=0):\n",
        "        return a + b + c\n",
        "\n",
        "\n",
        "calc = Calculator()\n",
        "\n",
        "# Call with two arguments\n",
        "print(calc.add(10, 20))\n",
        "\n",
        "# Call with three arguments\n",
        "print(calc.add(10, 20, 30))\n",
        "\n",
        "# Call with one argument\n",
        "print(calc.add(5))\n"
      ],
      "metadata": {
        "colab": {
          "base_uri": "https://localhost:8080/"
        },
        "id": "QZUUg5qAlrw0",
        "outputId": "d96c4d1e-3dba-48c7-9527-5fe3b8f1a2d2"
      },
      "execution_count": null,
      "outputs": [
        {
          "output_type": "stream",
          "name": "stdout",
          "text": [
            "30\n",
            "60\n",
            "5\n"
          ]
        }
      ]
    },
    {
      "cell_type": "code",
      "source": [
        "#Example: Method Overloading Using *args\n",
        "class Calculator:\n",
        "\n",
        "    def add(self, *args):\n",
        "        return sum(args)\n",
        "\n",
        "\n",
        "calc = Calculator()\n",
        "\n",
        "# Call with two arguments\n",
        "print(calc.add(10, 20))\n",
        "\n",
        "# Call with three arguments\n",
        "print(calc.add(10, 20, 30))\n",
        "\n",
        "# Call with five arguments\n",
        "print(calc.add(1, 2, 3, 4, 5))\n"
      ],
      "metadata": {
        "colab": {
          "base_uri": "https://localhost:8080/"
        },
        "id": "6S_2mZmZmzx6",
        "outputId": "e6cc853f-5920-4cb0-b77a-622ef4cc061f"
      },
      "execution_count": null,
      "outputs": [
        {
          "output_type": "stream",
          "name": "stdout",
          "text": [
            "30\n",
            "60\n",
            "15\n"
          ]
        }
      ]
    },
    {
      "cell_type": "markdown",
      "source": [
        "Ques-5 What are the three types of access modifiers in Python? How are they denoted?"
      ],
      "metadata": {
        "id": "yvLDlPV0nE78"
      }
    },
    {
      "cell_type": "markdown",
      "source": [
        "1. Public:\n",
        "\n",
        "Accessible from anywhere: Public members (attributes and methods) can be accessed from any part of the program.\n",
        "\n",
        "How it's denoted: Public members are denoted by not using any leading underscores (_)."
      ],
      "metadata": {
        "id": "vIDd1t4CwJU-"
      }
    },
    {
      "cell_type": "code",
      "source": [
        "#example\n",
        "class Car:\n",
        "    def __init__(self, make, model):\n",
        "        self.make = make  # Public attribute\n",
        "        self.model = model  # Public attribute\n",
        "\n",
        "    def display_info(self):  # Public method\n",
        "        print(f\"Car: {self.make} {self.model}\")\n",
        "\n",
        "\n",
        "my_car = Car(\"Toyota\", \"Corolla\")\n",
        "print(my_car.make)  # Accessible from outside the class\n",
        "my_car.display_info()  # Accessible from outside the class\n"
      ],
      "metadata": {
        "colab": {
          "base_uri": "https://localhost:8080/"
        },
        "id": "nt-TlSCrm9sx",
        "outputId": "3bb10590-8716-4160-efc5-ec08cd8e17c3"
      },
      "execution_count": null,
      "outputs": [
        {
          "output_type": "stream",
          "name": "stdout",
          "text": [
            "Toyota\n",
            "Car: Toyota Corolla\n"
          ]
        }
      ]
    },
    {
      "cell_type": "markdown",
      "source": [
        "2. Protected:\n",
        "\n",
        "Accessible within the class and subclasses: Protected members are intended to be accessed within the class and by subclasses but not from outside the class hierarchy. This is more of a convention, as Python doesn't enforce strict protection.\n",
        "\n",
        "How it's denoted: Protected members are denoted by a single leading underscore (_)."
      ],
      "metadata": {
        "id": "kzWlQWT_wWFj"
      }
    },
    {
      "cell_type": "code",
      "source": [
        "#example\n",
        "class Car:\n",
        "    def __init__(self, make, model):\n",
        "        self._make = make  # Protected attribute\n",
        "        self._model = model  # Protected attribute\n",
        "\n",
        "    def _display_info(self):  # Protected method\n",
        "        print(f\"Car: {self._make} {_model}\")\n",
        "\n",
        "class ElectricCar(Car):\n",
        "    def show_make(self):\n",
        "        print(f\"Electric Car Make: {self._make}\")  # Accessible in subclass\n",
        "\n",
        "\n",
        "my_car = Car(\"Toyota\", \"Corolla\")\n",
        "print(my_car._make)  # Can be accessed, but not recommended\n",
        "\n",
        "electric_car = ElectricCar(\"Tesla\", \"Model S\")\n",
        "electric_car.show_make()  # Accessing protected attribute in subclass\n"
      ],
      "metadata": {
        "colab": {
          "base_uri": "https://localhost:8080/"
        },
        "id": "vH3XTCX9wSEw",
        "outputId": "049ccd0b-64c5-46cd-ee8d-0e6cf39f7d57"
      },
      "execution_count": null,
      "outputs": [
        {
          "output_type": "stream",
          "name": "stdout",
          "text": [
            "Toyota\n",
            "Electric Car Make: Tesla\n"
          ]
        }
      ]
    },
    {
      "cell_type": "markdown",
      "source": [
        "3. Private:\n",
        "\n",
        "Accessible only within the class: Private members are intended to be accessed only within the class where they are defined. Python uses name mangling to make private members harder (but not impossible) to access from outside the class.\n",
        "\n",
        "How it's denoted: Private members are denoted by two leading underscores (__)."
      ],
      "metadata": {
        "id": "-IUpVRxcwqoO"
      }
    },
    {
      "cell_type": "code",
      "source": [
        "#example\n",
        "class Car:\n",
        "    def __init__(self, make, model):\n",
        "        self.__make = make  # Private attribute\n",
        "        self.__model = model  # Private attribute\n",
        "\n",
        "    def __display_info(self):  # Private method\n",
        "        print(f\"Car: {self.__make} {self.__model}\")\n",
        "\n",
        "    def public_method(self):\n",
        "        self.__display_info()  # Can call private method within the class\n",
        "\n",
        "\n",
        "my_car = Car(\"Toyota\", \"Corolla\")\n",
        "# print(my_car.__make)  # This will raise an AttributeError\n",
        "my_car.public_method()  # Public method can access private method\n"
      ],
      "metadata": {
        "colab": {
          "base_uri": "https://localhost:8080/"
        },
        "id": "iOWdmNEiwik1",
        "outputId": "28a3b18a-44ec-4286-a168-978412521617"
      },
      "execution_count": null,
      "outputs": [
        {
          "output_type": "stream",
          "name": "stdout",
          "text": [
            "Car: Toyota Corolla\n"
          ]
        }
      ]
    },
    {
      "cell_type": "markdown",
      "source": [
        "Ques-6 Describe the five types of inheritance in Python. Provide a simple example of multiple inheritance."
      ],
      "metadata": {
        "id": "UadhFesPw4-p"
      }
    },
    {
      "cell_type": "markdown",
      "source": [
        "Inheritance allows a class to inherit attributes and methods from another class. This promotes code reuse and creates a hierarchy of classes. There are five main types of inheritance in Python:\n",
        "\n",
        "1. Single Inheritance:\n",
        "A class inherits from only one parent class."
      ],
      "metadata": {
        "id": "8UqegdKExAle"
      }
    },
    {
      "cell_type": "code",
      "source": [
        "#example\n",
        "class Parent:\n",
        "    def show(self):\n",
        "        print(\"This is the parent class\")\n",
        "\n",
        "class Child(Parent):\n",
        "    pass\n",
        "\n",
        "child = Child()\n",
        "child.show()  # Inherits from Parent\n"
      ],
      "metadata": {
        "colab": {
          "base_uri": "https://localhost:8080/"
        },
        "id": "hqvdtwz4w20A",
        "outputId": "aae7da40-02c5-4ab4-bfe3-caf1bbbb7654"
      },
      "execution_count": null,
      "outputs": [
        {
          "output_type": "stream",
          "name": "stdout",
          "text": [
            "This is the parent class\n"
          ]
        }
      ]
    },
    {
      "cell_type": "markdown",
      "source": [
        "2. Multiple Inheritance:\n",
        "A class inherits from more than one parent class. This allows the child class to inherit properties and methods from all the parent classes."
      ],
      "metadata": {
        "id": "Fg-CH5L_xTWg"
      }
    },
    {
      "cell_type": "code",
      "source": [
        "#example\n",
        "class Parent1:\n",
        "    def show(self):\n",
        "        print(\"This is Parent1\")\n",
        "\n",
        "class Parent2:\n",
        "    def display(self):\n",
        "        print(\"This is Parent2\")\n",
        "\n",
        "class Child(Parent1, Parent2):\n",
        "    pass\n",
        "\n",
        "child = Child()\n",
        "child.show()    # Inherits from Parent1\n",
        "child.display() # Inherits from Parent2\n"
      ],
      "metadata": {
        "colab": {
          "base_uri": "https://localhost:8080/"
        },
        "id": "H1nRHmzwxSCB",
        "outputId": "730172f7-ec56-4331-c339-4fb533d3f82f"
      },
      "execution_count": null,
      "outputs": [
        {
          "output_type": "stream",
          "name": "stdout",
          "text": [
            "This is Parent1\n",
            "This is Parent2\n"
          ]
        }
      ]
    },
    {
      "cell_type": "markdown",
      "source": [
        "3. Multilevel Inheritance:\n",
        "A class inherits from a parent class, and another class inherits from that child class, forming a chain of inheritance."
      ],
      "metadata": {
        "id": "yqG9fbwPxbt-"
      }
    },
    {
      "cell_type": "code",
      "source": [
        "#example\n",
        "class Grandparent:\n",
        "    def show(self):\n",
        "        print(\"This is the grandparent class\")\n",
        "\n",
        "class Parent(Grandparent):\n",
        "    pass\n",
        "\n",
        "class Child(Parent):\n",
        "    pass\n",
        "\n",
        "child = Child()\n",
        "child.show()  # Inherits from Grandparent via Parent\n"
      ],
      "metadata": {
        "colab": {
          "base_uri": "https://localhost:8080/"
        },
        "id": "E8H3XX-Kxacc",
        "outputId": "f04bf665-6b23-49b9-8e08-c8a5c6d1f9ce"
      },
      "execution_count": null,
      "outputs": [
        {
          "output_type": "stream",
          "name": "stdout",
          "text": [
            "This is the grandparent class\n"
          ]
        }
      ]
    },
    {
      "cell_type": "markdown",
      "source": [
        "4. Hierarchical Inheritance:\n",
        "Multiple child classes inherit from the same parent class."
      ],
      "metadata": {
        "id": "o-c_F1IoxjWk"
      }
    },
    {
      "cell_type": "code",
      "source": [
        "#example\n",
        "class Parent:\n",
        "    def show(self):\n",
        "        print(\"This is the parent class\")\n",
        "\n",
        "class Child1(Parent):\n",
        "    pass\n",
        "\n",
        "class Child2(Parent):\n",
        "    pass\n",
        "\n",
        "child1 = Child1()\n",
        "child2 = Child2()\n",
        "\n",
        "child1.show()  # Inherits from Parent\n",
        "child2.show()  # Inherits from Parent\n"
      ],
      "metadata": {
        "colab": {
          "base_uri": "https://localhost:8080/"
        },
        "id": "0z8J-nRxxh9x",
        "outputId": "f175c190-de9a-41a4-bf0a-a3711cfd2523"
      },
      "execution_count": null,
      "outputs": [
        {
          "output_type": "stream",
          "name": "stdout",
          "text": [
            "This is the parent class\n",
            "This is the parent class\n"
          ]
        }
      ]
    },
    {
      "cell_type": "markdown",
      "source": [
        "5. Hybrid Inheritance:\n",
        "A combination of two or more types of inheritance (e.g., multiple and multilevel inheritance together)."
      ],
      "metadata": {
        "id": "cLPrMYjtxtLH"
      }
    },
    {
      "cell_type": "code",
      "source": [
        "#example\n",
        "class Parent:\n",
        "    def show(self):\n",
        "        print(\"This is the parent class\")\n",
        "\n",
        "class Child1(Parent):\n",
        "    pass\n",
        "\n",
        "class Child2(Parent):\n",
        "    pass\n",
        "\n",
        "class GrandChild(Child1, Child2):\n",
        "    pass\n",
        "\n",
        "grandchild = GrandChild()\n",
        "grandchild.show()  # Inherits from Parent via Child1 and Child2\n"
      ],
      "metadata": {
        "colab": {
          "base_uri": "https://localhost:8080/"
        },
        "id": "0CMchXbKxrcf",
        "outputId": "a4c63c48-32bc-4e3f-c416-133b061848fd"
      },
      "execution_count": null,
      "outputs": [
        {
          "output_type": "stream",
          "name": "stdout",
          "text": [
            "This is the parent class\n"
          ]
        }
      ]
    },
    {
      "cell_type": "code",
      "source": [
        "#Example of Multiple Inheritance:\n",
        "class Parent1:\n",
        "    def feature1(self):\n",
        "        print(\"Feature 1 from Parent1\")\n",
        "\n",
        "class Parent2:\n",
        "    def feature2(self):\n",
        "        print(\"Feature 2 from Parent2\")\n",
        "\n",
        "class Child(Parent1, Parent2):\n",
        "    def feature3(self):\n",
        "        print(\"Feature 3 from Child\")\n",
        "\n",
        "\n",
        "child = Child()\n",
        "child.feature1()  # Inherits from Parent1\n",
        "child.feature2()  # Inherits from Parent2\n",
        "child.feature3()  # Child's own method\n"
      ],
      "metadata": {
        "colab": {
          "base_uri": "https://localhost:8080/"
        },
        "id": "mgsbc-u4xyI8",
        "outputId": "2175863a-506a-4f49-93b0-26a885b96ae2"
      },
      "execution_count": null,
      "outputs": [
        {
          "output_type": "stream",
          "name": "stdout",
          "text": [
            "Feature 1 from Parent1\n",
            "Feature 2 from Parent2\n",
            "Feature 3 from Child\n"
          ]
        }
      ]
    },
    {
      "cell_type": "markdown",
      "source": [
        "Ques-7 What is the Method Resolution Order (MRO) in Python? How can you retrieve it programmatically?"
      ],
      "metadata": {
        "id": "Rkggi5bxyI1x"
      }
    },
    {
      "cell_type": "markdown",
      "source": [
        "The Method Resolution Order (MRO) is the order in which Python looks for a method or attribute in a hierarchy of classes during inheritance. When a class inherits from multiple classes (especially in the case of multiple inheritance), Python follows a specific order to determine which method or attribute to use if it is defined in more than one class. MRO ensures that the search for methods or attributes is done in a consistent and predictable way, following a depth-first, left-to-right approach.\n",
        "\n",
        "Python uses the C3 Linearization algorithm (or C3 superclass linearization) to determine the MRO. The algorithm ensures that:\n",
        "\n",
        "A class is checked before its superclass.\n",
        "If multiple classes are inherited from, the order is respected as listed in the inheritance declaration.\n",
        "\n",
        "-> How MRO Works\n",
        "\n",
        "In Python, the MRO for a class can be determined by:\n",
        "\n",
        "Starting from the class itself.\n",
        "Checking its parents (superclasses) in the order they are inherited.\n",
        "Continuing this process until it reaches the root (object class in Python).\n",
        "\n",
        "-> Retrieving MRO Programmatically\n",
        "\n",
        "There are two main ways to retrieve the MRO of a class programmatically in Python:\n",
        "\n",
        "1. Using the __mro__ attribute: Every class has an attribute called __mro__ which is a tuple containing the classes in the order they are searched."
      ],
      "metadata": {
        "id": "0IZuP41AzDvh"
      }
    },
    {
      "cell_type": "code",
      "source": [
        "#example\n",
        "class Parent1:\n",
        "    pass\n",
        "\n",
        "class Parent2:\n",
        "    pass\n",
        "\n",
        "class Child(Parent1, Parent2):\n",
        "    pass\n",
        "\n",
        "# Retrieve MRO using __mro__\n",
        "print(Child.__mro__)\n"
      ],
      "metadata": {
        "colab": {
          "base_uri": "https://localhost:8080/"
        },
        "id": "kP05XXGOyC21",
        "outputId": "2362c573-ca69-4f78-afe7-e8800982c270"
      },
      "execution_count": null,
      "outputs": [
        {
          "output_type": "stream",
          "name": "stdout",
          "text": [
            "(<class '__main__.Child'>, <class '__main__.Parent1'>, <class '__main__.Parent2'>, <class 'object'>)\n"
          ]
        }
      ]
    },
    {
      "cell_type": "markdown",
      "source": [
        "2. Using the mro() method: The mro() method can be called on a class to return a list of classes in the MRO."
      ],
      "metadata": {
        "id": "mlJvg2krzhHo"
      }
    },
    {
      "cell_type": "code",
      "source": [
        "#example\n",
        "# Retrieve MRO using mro() method\n",
        "print(Child.mro())\n"
      ],
      "metadata": {
        "colab": {
          "base_uri": "https://localhost:8080/"
        },
        "id": "T1okYlT3zfv5",
        "outputId": "f88c94a2-10f9-4a80-8a5a-00992d0e872c"
      },
      "execution_count": null,
      "outputs": [
        {
          "output_type": "stream",
          "name": "stdout",
          "text": [
            "[<class '__main__.Child'>, <class '__main__.Parent1'>, <class '__main__.Parent2'>, <class 'object'>]\n"
          ]
        }
      ]
    },
    {
      "cell_type": "markdown",
      "source": [
        "Ques-8 Create an abstract base class Shape with an abstract method area(). Then create two subclasses Circle and Rectangle that implement the area() method"
      ],
      "metadata": {
        "id": "LP_q6xerzxtv"
      }
    },
    {
      "cell_type": "code",
      "source": [
        "from abc import ABC, abstractmethod\n",
        "import math\n",
        "\n",
        "# Abstract base class\n",
        "class Shape(ABC):\n",
        "    @abstractmethod\n",
        "    def area(self):\n",
        "        pass\n",
        "\n",
        "\n",
        "class Circle(Shape):\n",
        "    def __init__(self, radius):\n",
        "        self.radius = radius\n",
        "\n",
        "\n",
        "    def area(self):\n",
        "        return math.pi * (self.radius ** 2)\n",
        "\n",
        "\n",
        "class Rectangle(Shape):\n",
        "    def __init__(self, width, height):\n",
        "        self.width = width\n",
        "        self.height = height\n",
        "\n",
        "\n",
        "    def area(self):\n",
        "        return self.width * self.height\n",
        "\n",
        "\n",
        "circle = Circle(5)\n",
        "print(f\"Circle Area: {circle.area()}\")\n",
        "\n",
        "rectangle = Rectangle(4, 6)\n",
        "print(f\"Rectangle Area: {rectangle.area()}\")\n"
      ],
      "metadata": {
        "colab": {
          "base_uri": "https://localhost:8080/"
        },
        "id": "Yeu1mHeHznir",
        "outputId": "a5e7c4f0-cd40-42a6-eaf8-27914f57b500"
      },
      "execution_count": null,
      "outputs": [
        {
          "output_type": "stream",
          "name": "stdout",
          "text": [
            "Circle Area: 78.53981633974483\n",
            "Rectangle Area: 24\n"
          ]
        }
      ]
    },
    {
      "cell_type": "markdown",
      "source": [
        "Ques-9 Demonstrate polymorphism by creating a function that can work with different shape objects to calculate and print their areas."
      ],
      "metadata": {
        "id": "Pt4HGyI_0Md3"
      }
    },
    {
      "cell_type": "markdown",
      "source": [
        "Polymorphism allows objects of different classes to be treated as objects of a common superclass. In the case of the Shape class and its subclasses (Circle and Rectangle), polymorphism allows us to write a function that can operate on any object that is derived from Shape, regardless of the specific type (e.g., Circle or Rectangle)."
      ],
      "metadata": {
        "id": "d_a4K8fM2Da8"
      }
    },
    {
      "cell_type": "code",
      "source": [
        "from abc import ABC, abstractmethod\n",
        "import math\n",
        "\n",
        "# Abstract base class\n",
        "class Shape(ABC):\n",
        "    @abstractmethod\n",
        "    def area(self):\n",
        "        pass\n",
        "\n",
        "\n",
        "class Circle(Shape):\n",
        "    def __init__(self, radius):\n",
        "        self.radius = radius\n",
        "\n",
        "    def area(self):\n",
        "        return math.pi * (self.radius ** 2)\n",
        "\n",
        "\n",
        "class Rectangle(Shape):\n",
        "    def __init__(self, width, height):\n",
        "        self.width = width\n",
        "        self.height = height\n",
        "\n",
        "    def area(self):\n",
        "        return self.width * self.height\n",
        "\n",
        "# A polymorphic function to calculate and print the area of any shape\n",
        "def print_area(shape: Shape):\n",
        "    print(f\"The area of the shape is: {shape.area()}\")\n",
        "\n",
        "\n",
        "circle = Circle(5)\n",
        "rectangle = Rectangle(4, 6)\n",
        "\n",
        "\n",
        "print_area(circle)\n",
        "print_area(rectangle)\n"
      ],
      "metadata": {
        "colab": {
          "base_uri": "https://localhost:8080/"
        },
        "id": "GnYWlMBL0Krq",
        "outputId": "62f9c35e-0fd7-4815-e721-16aac6de1e89"
      },
      "execution_count": null,
      "outputs": [
        {
          "output_type": "stream",
          "name": "stdout",
          "text": [
            "The area of the shape is: 78.53981633974483\n",
            "The area of the shape is: 24\n"
          ]
        }
      ]
    },
    {
      "cell_type": "markdown",
      "source": [
        "Ques-10 Implement encapsulation in a BankAccount class with private attributes for balance and account_number. Include methods for deposit, withdrawal, and balance inquiry."
      ],
      "metadata": {
        "id": "O5Ppc7mX2YYV"
      }
    },
    {
      "cell_type": "code",
      "source": [
        "class BankAccount:\n",
        "    def __init__(self, account_number, initial_balance=0):\n",
        "\n",
        "        self.__account_number = account_number\n",
        "        self.__balance = initial_balance\n",
        "\n",
        "\n",
        "    def deposit(self, amount):\n",
        "        if amount > 0:\n",
        "            self.__balance += amount\n",
        "            print(f\"Deposited ${amount}. New balance: ${self.__balance}\")\n",
        "        else:\n",
        "            print(\"Deposit amount must be positive.\")\n",
        "\n",
        "\n",
        "    def withdraw(self, amount):\n",
        "        if amount > 0:\n",
        "            if amount <= self.__balance:\n",
        "                self.__balance -= amount\n",
        "                print(f\"Withdrew ${amount}. Remaining balance: ${self.__balance}\")\n",
        "            else:\n",
        "                print(\"Insufficient funds.\")\n",
        "        else:\n",
        "            print(\"Withdrawal amount must be positive.\")\n",
        "\n",
        "\n",
        "    def get_balance(self):\n",
        "        return f\"Your current balance is: ${self.__balance}\"\n",
        "\n",
        "\n",
        "    def get_account_number(self):\n",
        "        return f\"Account Number: {self.__account_number}\"\n",
        "\n",
        "\n",
        "account = BankAccount(\"123456789\", 1000)\n",
        "\n",
        "# Deposit money\n",
        "account.deposit(500)\n",
        "\n",
        "# Withdraw money\n",
        "account.withdraw(300)\n",
        "\n",
        "# Check balance\n",
        "print(account.get_balance())\n",
        "\n",
        "# Get account number\n",
        "print(account.get_account_number())\n",
        "\n",
        "# Attempt to access private attributes directly (will raise an AttributeError)\n",
        "# print(account.__balance)  # This will not work, as __balance is private\n"
      ],
      "metadata": {
        "colab": {
          "base_uri": "https://localhost:8080/"
        },
        "id": "DP8sHI8r2ck2",
        "outputId": "4613c0ea-e48c-4477-f032-25e61ab3a696"
      },
      "execution_count": null,
      "outputs": [
        {
          "output_type": "stream",
          "name": "stdout",
          "text": [
            "Deposited $500. New balance: $1500\n",
            "Withdrew $300. Remaining balance: $1200\n",
            "Your current balance is: $1200\n",
            "Account Number: 123456789\n"
          ]
        }
      ]
    },
    {
      "cell_type": "markdown",
      "source": [
        "Ques-11 Write a class that overrides the __str__ and __add__ magic methods. What will these methods allow you to do?"
      ],
      "metadata": {
        "id": "UE0x3hz0BuQH"
      }
    },
    {
      "cell_type": "markdown",
      "source": [
        "In Python, the __str__ and __add__ magic methods allow you to customize how your class instances are represented as strings and how they can be added together, respectively.\n",
        "\n",
        "__str__:\n",
        "\n",
        "This method is used to define the string representation of an object. When you call str(object) or use print(object), the __str__ method is invoked. It should return a human-readable string that represents the object.\n",
        "\n",
        "__add__:\n",
        "\n",
        "This method allows you to define the behavior of the addition operator (+). When you use the + operator between two instances of the class, the __add__ method is called, allowing you to specify how those instances should be added together."
      ],
      "metadata": {
        "id": "8DuKsFBLB07C"
      }
    },
    {
      "cell_type": "code",
      "source": [
        "#example\n",
        "class Point:\n",
        "    def __init__(self, x, y):\n",
        "        self.x = x\n",
        "        self.y = y\n",
        "\n",
        "    def __str__(self):\n",
        "\n",
        "        return f\"Point({self.x}, {self.y})\"\n",
        "\n",
        "    def __add__(self, other):\n",
        "\n",
        "        if isinstance(other, Point):\n",
        "            return Point(self.x + other.x, self.y + other.y)\n",
        "        return NotImplemented\n",
        "\n",
        "\n",
        "point1 = Point(2, 3)\n",
        "point2 = Point(5, 7)\n",
        "\n",
        "\n",
        "print(point1)\n",
        "print(point2)\n",
        "\n",
        "\n",
        "point3 = point1 + point2\n",
        "print(point3)\n"
      ],
      "metadata": {
        "colab": {
          "base_uri": "https://localhost:8080/"
        },
        "id": "kCyNzFZNBipi",
        "outputId": "dfc84807-4436-4e07-b7f7-62bea8075a60"
      },
      "execution_count": null,
      "outputs": [
        {
          "output_type": "stream",
          "name": "stdout",
          "text": [
            "Point(2, 3)\n",
            "Point(5, 7)\n",
            "Point(7, 10)\n"
          ]
        }
      ]
    },
    {
      "cell_type": "markdown",
      "source": [
        "Benefits of Using These Methods:\n",
        "\n",
        "__str__: Provides a clear and customized way to display the object, improving code readability and debugging.\n",
        "\n",
        "__add__: Enables intuitive use of the addition operator to combine instances of the class, enhancing the class's usability and expressiveness."
      ],
      "metadata": {
        "id": "Aw06isodF-7f"
      }
    },
    {
      "cell_type": "markdown",
      "source": [
        "Ques-12 Create a decorator that measures and prints the execution time of a function."
      ],
      "metadata": {
        "id": "SsotZ3KCGGk_"
      }
    },
    {
      "cell_type": "code",
      "source": [
        "import time\n",
        "from functools import wraps\n",
        "\n",
        "def execution_time_decorator(func):\n",
        "    @wraps(func)\n",
        "    def wrapper(*args, **kwargs):\n",
        "        start_time = time.time()\n",
        "        result = func(*args, **kwargs)\n",
        "        end_time = time.time()\n",
        "        execution_time = end_time - start_time\n",
        "        print(f\"Execution time of '{func.__name__}': {execution_time:.6f} seconds\")\n",
        "        return result\n",
        "    return wrapper\n",
        "\n",
        "\n",
        "@execution_time_decorator\n",
        "def example_function(n):\n",
        "    total = 0\n",
        "    for i in range(n):\n",
        "        total += i ** 2\n",
        "    return total\n",
        "\n",
        "\n",
        "result = example_function(10000)\n",
        "print(f\"Result: {result}\")\n"
      ],
      "metadata": {
        "colab": {
          "base_uri": "https://localhost:8080/"
        },
        "id": "Yjl16-wtCg57",
        "outputId": "57b8eea4-2102-4e49-b1a1-c61f91c1cc2a"
      },
      "execution_count": null,
      "outputs": [
        {
          "output_type": "stream",
          "name": "stdout",
          "text": [
            "Execution time of 'example_function': 0.031987 seconds\n",
            "Result: 333283335000\n"
          ]
        }
      ]
    },
    {
      "cell_type": "markdown",
      "source": [
        "Ques-13 Explain the concept of the Diamond Problem in multiple inheritance. How does Python resolve it?"
      ],
      "metadata": {
        "id": "mfd3tpSyGl9K"
      }
    },
    {
      "cell_type": "markdown",
      "source": [
        "The Diamond Problem is a common issue that arises in multiple inheritance scenarios in object-oriented programming. It occurs when a class inherits from two or more classes that have a common base class. This creates a \"diamond\" shape in the inheritance hierarchy.\n",
        "\n",
        "How Python Resolves the Diamond Problem:\n",
        "\n",
        "Python uses a method resolution order (MRO) to resolve the diamond problem. It follows the C3 Linearization algorithm, which establishes a consistent order of inheritance. The MRO ensures that:\n",
        "\n",
        "A class is checked before its superclasses.\n",
        "\n",
        "Superclasses are checked in the order they appear in the inheritance declaration."
      ],
      "metadata": {
        "id": "qa0A3dMXGz0U"
      }
    },
    {
      "cell_type": "code",
      "source": [
        "#example\n",
        "class A:\n",
        "    def show(self):\n",
        "        print(\"Method from class A\")\n",
        "\n",
        "class B(A):\n",
        "    def show(self):\n",
        "        print(\"Method from class B\")\n",
        "\n",
        "class C(A):\n",
        "    def show(self):\n",
        "        print(\"Method from class C\")\n",
        "\n",
        "class D(B, C):\n",
        "    pass\n",
        "\n",
        "\n",
        "d = D()\n",
        "d.show()\n"
      ],
      "metadata": {
        "colab": {
          "base_uri": "https://localhost:8080/"
        },
        "id": "GMEk5d34GcOY",
        "outputId": "2134adcd-e358-4490-82f5-f5df34b3302f"
      },
      "execution_count": null,
      "outputs": [
        {
          "output_type": "stream",
          "name": "stdout",
          "text": [
            "Method from class B\n"
          ]
        }
      ]
    },
    {
      "cell_type": "markdown",
      "source": [
        "Ques-14 Write a class method that keeps track of the number of instances created from a class."
      ],
      "metadata": {
        "id": "_OiXo7pUJDsj"
      }
    },
    {
      "cell_type": "code",
      "source": [
        "class InstanceCounter:\n",
        "\n",
        "    instance_count = 0\n",
        "\n",
        "    def __init__(self):\n",
        "\n",
        "        InstanceCounter.instance_count += 1\n",
        "\n",
        "    @classmethod\n",
        "    def get_instance_count(cls):\n",
        "\n",
        "        return cls.instance_count\n",
        "\n",
        "\n",
        "obj1 = InstanceCounter()\n",
        "obj2 = InstanceCounter()\n",
        "obj3 = InstanceCounter()\n",
        "\n",
        "\n",
        "print(f\"Number of instances created: {InstanceCounter.get_instance_count()}\")\n"
      ],
      "metadata": {
        "colab": {
          "base_uri": "https://localhost:8080/"
        },
        "id": "6qoIVRikHKUv",
        "outputId": "8a080118-ab50-4a77-965f-b8045fc6c586"
      },
      "execution_count": null,
      "outputs": [
        {
          "output_type": "stream",
          "name": "stdout",
          "text": [
            "Number of instances created: 3\n"
          ]
        }
      ]
    },
    {
      "cell_type": "markdown",
      "source": [
        "Ques-15 Implement a static method in a class that checks if a given year is a leap year."
      ],
      "metadata": {
        "id": "NY6X6BTVJVN7"
      }
    },
    {
      "cell_type": "code",
      "source": [
        "class LeapYearChecker:\n",
        "    @staticmethod\n",
        "    def is_leap_year(year):\n",
        "        \"\"\"Check if the given year is a leap year.\"\"\"\n",
        "        if (year % 4 == 0 and year % 100 != 0) or (year % 400 == 0):\n",
        "            return True\n",
        "        return False\n",
        "\n",
        "\n",
        "year_to_check = 2024\n",
        "if LeapYearChecker.is_leap_year(year_to_check):\n",
        "    print(f\"{year_to_check} is a leap year.\")\n",
        "else:\n",
        "    print(f\"{year_to_check} is not a leap year.\")\n",
        "\n",
        "\n",
        "year_to_check = 1900\n",
        "if LeapYearChecker.is_leap_year(year_to_check):\n",
        "    print(f\"{year_to_check} is a leap year.\")\n",
        "else:\n",
        "    print(f\"{year_to_check} is not a leap year.\")\n"
      ],
      "metadata": {
        "colab": {
          "base_uri": "https://localhost:8080/"
        },
        "id": "dCjTAKcLJQ77",
        "outputId": "912d6f2f-4e0d-420a-9e7c-25beb36cefac"
      },
      "execution_count": null,
      "outputs": [
        {
          "output_type": "stream",
          "name": "stdout",
          "text": [
            "2024 is a leap year.\n",
            "1900 is not a leap year.\n"
          ]
        }
      ]
    },
    {
      "cell_type": "code",
      "source": [],
      "metadata": {
        "id": "yfKJnSlKJcwF"
      },
      "execution_count": null,
      "outputs": []
    }
  ]
}